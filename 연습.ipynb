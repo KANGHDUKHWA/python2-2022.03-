{
 "cells": [
  {
   "cell_type": "code",
   "execution_count": 11,
   "metadata": {},
   "outputs": [
    {
     "name": "stdout",
     "output_type": "stream",
     "text": [
      "{'1월': 31, '2월': 28, '3월': 30}\n"
     ]
    }
   ],
   "source": [
    "# 문제 : 딕셔너리에 각 달의 마지막 날들을 한번에 담고, keys()로 key, value 순회출력\n",
    "month_last_days = {}\n",
    "last_days = [31, 28, 30]\n",
    "for i, last_day in enumerate(last_days):\n",
    "    month = str(i+1) + \"월\"\n",
    "    month_last_days[month] = last_day\n",
    "    \n",
    "for key in month_last_days"
   ]
  },
  {
   "cell_type": "code",
   "execution_count": 12,
   "metadata": {},
   "outputs": [
    {
     "name": "stdout",
     "output_type": "stream",
     "text": [
      "1월는31까지 있습니다.\n",
      "2월는28까지 있습니다.\n",
      "3월는30까지 있습니다.\n"
     ]
    }
   ],
   "source": [
    "m = {'1월': 31, '2월': 28, '3월': 30}\n",
    "for month in m.keys():\n",
    "    endday = m[month]\n",
    "    print(month+\"는\" + str(endday)+ \"까지 있습니다.\")"
   ]
  },
  {
   "cell_type": "markdown",
   "metadata": {},
   "source": [
    "m = {'1월': 31, '2월': 28, '3월': 30}\n"
   ]
  }
 ],
 "metadata": {
  "interpreter": {
   "hash": "2db524e06e9f5f4ffedc911c917cb75e12dbc923643829bf417064a77eb14d37"
  },
  "kernelspec": {
   "display_name": "Python 3.8.6 32-bit",
   "language": "python",
   "name": "python3"
  },
  "language_info": {
   "codemirror_mode": {
    "name": "ipython",
    "version": 3
   },
   "file_extension": ".py",
   "mimetype": "text/x-python",
   "name": "python",
   "nbconvert_exporter": "python",
   "pygments_lexer": "ipython3",
   "version": "3.8.6"
  },
  "orig_nbformat": 4
 },
 "nbformat": 4,
 "nbformat_minor": 2
}
